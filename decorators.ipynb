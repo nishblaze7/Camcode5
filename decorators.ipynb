{
  "nbformat": 4,
  "nbformat_minor": 0,
  "metadata": {
    "colab": {
      "provenance": [],
      "authorship_tag": "ABX9TyMB0PpqGjf/5TvdFzJo6DD2",
      "include_colab_link": true
    },
    "kernelspec": {
      "name": "python3",
      "display_name": "Python 3"
    },
    "language_info": {
      "name": "python"
    }
  },
  "cells": [
    {
      "cell_type": "markdown",
      "metadata": {
        "id": "view-in-github",
        "colab_type": "text"
      },
      "source": [
        "<a href=\"https://colab.research.google.com/github/nishblaze7/Camcode5/blob/main/decorators.ipynb\" target=\"_parent\"><img src=\"https://colab.research.google.com/assets/colab-badge.svg\" alt=\"Open In Colab\"/></a>"
      ]
    },
    {
      "cell_type": "code",
      "execution_count": 3,
      "metadata": {
        "colab": {
          "base_uri": "https://localhost:8080/"
        },
        "id": "sBVWd1Zc8TRr",
        "outputId": "bb0fb45b-8f39-4cdc-82e4-405540b9c125"
      },
      "outputs": [
        {
          "output_type": "execute_result",
          "data": {
            "text/plain": [
              "(3, -1)"
            ]
          },
          "metadata": {},
          "execution_count": 3
        }
      ],
      "source": [
        "def apply(func, a, b):\n",
        "    return func(a, b)\n",
        "\n",
        "def add(a, b):\n",
        "    return a + b\n",
        "\n",
        "def sub(a, b):\n",
        "    return a - b\n",
        "\n",
        "apply(add, 1, 2), apply(sub, 1, 2)\n"
      ]
    },
    {
      "cell_type": "code",
      "source": [
        "def power(n):\n",
        "    def func(number):\n",
        "        return number**n\n",
        "    return func\n",
        "\n",
        "pow2 = power(2)\n",
        "pow3 = power(3)\n",
        "\n",
        "pow2(3), pow3(3)\n"
      ],
      "metadata": {
        "colab": {
          "base_uri": "https://localhost:8080/"
        },
        "id": "SXFdhv5H8xZz",
        "outputId": "dc14a536-068a-4e8e-a2a4-fd45ca7c5c4e"
      },
      "execution_count": 4,
      "outputs": [
        {
          "output_type": "execute_result",
          "data": {
            "text/plain": [
              "(9, 27)"
            ]
          },
          "metadata": {},
          "execution_count": 4
        }
      ]
    },
    {
      "cell_type": "code",
      "source": [
        "import time\n",
        "import random\n",
        "\n",
        "def stopwatch(f):\n",
        "    def func():\n",
        "        tic = time.time()\n",
        "        result = f()\n",
        "        print(f\"this function took: {time.time() - tic}\")\n",
        "        return result\n",
        "    return func\n",
        "\n",
        "def sleep_random():\n",
        "    time.sleep(random.random())\n",
        "    return \"Done!\"\n",
        "\n",
        "timed_sleep = stopwatch(sleep_random)\n"
      ],
      "metadata": {
        "id": "yLiJOe2D8y3B"
      },
      "execution_count": 5,
      "outputs": []
    },
    {
      "cell_type": "code",
      "source": [
        "sleep_random()\n",
        "timed_sleep()\n"
      ],
      "metadata": {
        "colab": {
          "base_uri": "https://localhost:8080/",
          "height": 53
        },
        "id": "IpcJUKRW81XK",
        "outputId": "b2dd9735-9b25-4366-b31b-f4953d1d4cb5"
      },
      "execution_count": 6,
      "outputs": [
        {
          "output_type": "stream",
          "name": "stdout",
          "text": [
            "this function took: 0.815234899520874\n"
          ]
        },
        {
          "output_type": "execute_result",
          "data": {
            "text/plain": [
              "'Done!'"
            ],
            "application/vnd.google.colaboratory.intrinsic+json": {
              "type": "string"
            }
          },
          "metadata": {},
          "execution_count": 6
        }
      ]
    },
    {
      "cell_type": "code",
      "source": [
        "import time\n",
        "import random\n",
        "\n",
        "def stopwatch(f):\n",
        "    def func(*args, **kwargs):\n",
        "        tic = time.time()\n",
        "        result = f(*args, **kwargs)\n",
        "        print(f\"this function took: {time.time() - tic}\")\n",
        "        return result\n",
        "    return func\n",
        "\n",
        "def sleep_random(s):\n",
        "    t = s + random.random()\n",
        "    time.sleep(t)\n",
        "    return \"Done\"\n",
        "\n",
        "timed_sleep = stopwatch(sleep_random)\n"
      ],
      "metadata": {
        "id": "spfYsJ7M82-P"
      },
      "execution_count": 7,
      "outputs": []
    },
    {
      "cell_type": "code",
      "source": [
        "sleep_random(s=2)\n",
        "timed_sleep(s=2)\n"
      ],
      "metadata": {
        "colab": {
          "base_uri": "https://localhost:8080/",
          "height": 53
        },
        "id": "Z0b-Q4xt85jX",
        "outputId": "cdd14b0e-5f12-4d02-c6d3-fdcdcd802c09"
      },
      "execution_count": 8,
      "outputs": [
        {
          "output_type": "stream",
          "name": "stdout",
          "text": [
            "this function took: 2.557898759841919\n"
          ]
        },
        {
          "output_type": "execute_result",
          "data": {
            "text/plain": [
              "'Done'"
            ],
            "application/vnd.google.colaboratory.intrinsic+json": {
              "type": "string"
            }
          },
          "metadata": {},
          "execution_count": 8
        }
      ]
    },
    {
      "cell_type": "code",
      "source": [
        "import time\n",
        "import random\n",
        "\n",
        "def stopwatch(f):\n",
        "    def func(*args, **kwargs):\n",
        "        tic = time.time()\n",
        "        result = f(*args, **kwargs)\n",
        "        print(f\"this function took: {time.time() - tic}\")\n",
        "        return result\n",
        "    return func\n",
        "\n",
        "@stopwatch\n",
        "def sleep_random(s):\n",
        "    t = s + random.random()\n",
        "    time.sleep(t)\n",
        "    return f\"Done\"\n"
      ],
      "metadata": {
        "id": "cIvGMtj489TL"
      },
      "execution_count": 9,
      "outputs": []
    },
    {
      "cell_type": "code",
      "source": [
        "sleep_random(1)\n",
        "sleep_random(2)\n",
        "sleep_random(3)\n"
      ],
      "metadata": {
        "colab": {
          "base_uri": "https://localhost:8080/",
          "height": 89
        },
        "id": "mDxyeOc78-Fd",
        "outputId": "92b34526-5830-4b83-d73d-9355c7a945b0"
      },
      "execution_count": 10,
      "outputs": [
        {
          "output_type": "stream",
          "name": "stdout",
          "text": [
            "this function took: 1.2051682472229004\n",
            "this function took: 2.1399893760681152\n",
            "this function took: 3.2968294620513916\n"
          ]
        },
        {
          "output_type": "execute_result",
          "data": {
            "text/plain": [
              "'Done'"
            ],
            "application/vnd.google.colaboratory.intrinsic+json": {
              "type": "string"
            }
          },
          "metadata": {},
          "execution_count": 10
        }
      ]
    },
    {
      "cell_type": "code",
      "source": [
        "import time\n",
        "import random\n",
        "\n",
        "def stopwatch(f):\n",
        "    def func(*args, **kwargs):\n",
        "        tic = time.time()\n",
        "        result = f(*args, **kwargs)\n",
        "        print(f\"this function took: {time.time() - tic}\")\n",
        "        return result\n",
        "    return func\n",
        "\n",
        "@stopwatch\n",
        "def sleep_random(s):\n",
        "    \"\"\"This function sleeps at least for `s` seconds.\"\"\"\n",
        "    return time.sleep(s + random.random())\n",
        "\n",
        "timed_sleep = stopwatch(sleep_random)\n"
      ],
      "metadata": {
        "id": "J1Ur2gVW8_iZ"
      },
      "execution_count": 11,
      "outputs": []
    },
    {
      "cell_type": "code",
      "source": [
        "help(sleep_random)\n"
      ],
      "metadata": {
        "colab": {
          "base_uri": "https://localhost:8080/"
        },
        "id": "PJQ_lUVl9CEa",
        "outputId": "ef8fdeab-f0ef-430f-e1a1-ea9093310272"
      },
      "execution_count": 12,
      "outputs": [
        {
          "output_type": "stream",
          "name": "stdout",
          "text": [
            "Help on function func in module __main__:\n",
            "\n",
            "func(*args, **kwargs)\n",
            "\n"
          ]
        }
      ]
    },
    {
      "cell_type": "code",
      "source": [
        "import time\n",
        "import random\n",
        "from functools import wraps\n",
        "\n",
        "def print_call1(f):\n",
        "    @wraps(f)\n",
        "    def func(*args, **kwargs):\n",
        "        print(f\"print-call 1 args: {args}\")\n",
        "        result = f(*args, **kwargs)\n",
        "        return result\n",
        "    return func\n",
        "\n",
        "\n",
        "def print_call2(f):\n",
        "    @wraps(f)\n",
        "    def func(*args, **kwargs):\n",
        "        print(f\"print-call 2 args: {args}\")\n",
        "        result = f(*args, **kwargs)\n",
        "        return result\n",
        "    return func\n",
        "\n",
        "@print_call2\n",
        "@print_call1\n",
        "@print_call2\n",
        "@print_call1\n",
        "def sleep_random(s):\n",
        "    \"\"\"This function sleeps at least for `s` seconds.\"\"\"\n",
        "    return time.sleep(s + random.random()/100)\n",
        "\n",
        "sleep_random(1.5)\n"
      ],
      "metadata": {
        "colab": {
          "base_uri": "https://localhost:8080/"
        },
        "id": "D2Culn9k9Ggv",
        "outputId": "4d8ed48e-4fe2-49af-f164-1c89b68b03ab"
      },
      "execution_count": 13,
      "outputs": [
        {
          "output_type": "stream",
          "name": "stdout",
          "text": [
            "print-call 2 args: (1.5,)\n",
            "print-call 1 args: (1.5,)\n",
            "print-call 2 args: (1.5,)\n",
            "print-call 1 args: (1.5,)\n"
          ]
        }
      ]
    },
    {
      "cell_type": "code",
      "source": [
        "import time\n",
        "import random\n",
        "from functools import wraps\n",
        "\n",
        "def loggg(show_name=True, show_time=True):\n",
        "    def stopwatch(f):\n",
        "        @wraps(f)\n",
        "        def func(*args, **kwargs):\n",
        "            tic = time.time()\n",
        "            result = f(*args, **kwargs)\n",
        "            log_text = \"call\"\n",
        "            if show_name:\n",
        "                log_text = f\"{log_text} {f.__name__}\"\n",
        "            if show_time:\n",
        "                log_text = f\"{log_text} time:{time.time() - tic}\"\n",
        "            print(log_text)\n",
        "            return result\n",
        "        return func\n",
        "    return stopwatch\n",
        "\n",
        "@loggg(show_name=False, show_time=True)\n",
        "def sleep_random(s):\n",
        "    \"\"\"This function sleeps at least for `s` seconds.\"\"\"\n",
        "    return time.sleep(s + random.random()/100)\n",
        "\n",
        "sleep_random(1)\n"
      ],
      "metadata": {
        "colab": {
          "base_uri": "https://localhost:8080/"
        },
        "id": "98EBuwet9HxV",
        "outputId": "30d0be5e-186e-4b84-d7de-22e17ab4be04"
      },
      "execution_count": 14,
      "outputs": [
        {
          "output_type": "stream",
          "name": "stdout",
          "text": [
            "call time:1.0020442008972168\n"
          ]
        }
      ]
    },
    {
      "cell_type": "code",
      "source": [
        "import time\n",
        "import random\n",
        "from functools import wraps\n",
        "\n",
        "def loggg(func_in=None, *, show_name=True, show_time=True):\n",
        "    def stopwatch(f):\n",
        "        @wraps(f)\n",
        "        def func(*args, **kwargs):\n",
        "            tic = time.time()\n",
        "            result = f(*args, **kwargs)\n",
        "            result = \"call\"\n",
        "            if show_name:\n",
        "                result = f\"{result} {f.__name__}\"\n",
        "            if show_time:\n",
        "                result = f\"{result} time:{time.time() - tic}\"\n",
        "            return result\n",
        "        return func\n",
        "\n",
        "    # This is where the \"magic\" happens.\n",
        "    if func_in is None:\n",
        "        return stopwatch\n",
        "    else:\n",
        "        return stopwatch(func_in)\n",
        "\n",
        "@loggg\n",
        "def sleep_random(s):\n",
        "    \"\"\"This function sleeps at least for `s` seconds.\"\"\"\n",
        "    return time.sleep(s + random.random()/100)\n",
        "\n",
        "sleep_random(1)\n"
      ],
      "metadata": {
        "colab": {
          "base_uri": "https://localhost:8080/",
          "height": 35
        },
        "id": "z-NgaLC39K5L",
        "outputId": "6be4fe8a-c6f9-4f38-b515-310d9a93de32"
      },
      "execution_count": 15,
      "outputs": [
        {
          "output_type": "execute_result",
          "data": {
            "text/plain": [
              "'call sleep_random time:1.0054547786712646'"
            ],
            "application/vnd.google.colaboratory.intrinsic+json": {
              "type": "string"
            }
          },
          "metadata": {},
          "execution_count": 15
        }
      ]
    },
    {
      "cell_type": "code",
      "source": [
        "from functools import wraps\n",
        "import datetime as dt\n",
        "\n",
        "def log_step(func):\n",
        "    @wraps(func)\n",
        "    def wrapper(*args, **kwargs):\n",
        "        tic = dt.datetime.now()\n",
        "        result = func(*args, **kwargs)\n",
        "        time_taken = str(dt.datetime.now() - tic)\n",
        "        print(f\"just ran step {func.__name__} shape={result.shape} took {time_taken}s\")\n",
        "        return result\n",
        "    return wrapper\n"
      ],
      "metadata": {
        "id": "xSUS_YHw9Nuz"
      },
      "execution_count": 16,
      "outputs": []
    }
  ]
}